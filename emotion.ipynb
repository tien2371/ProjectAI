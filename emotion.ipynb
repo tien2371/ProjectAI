{
  "nbformat": 4,
  "nbformat_minor": 0,
  "metadata": {
    "colab": {
      "name": "emotion.ipynb",
      "provenance": [],
      "collapsed_sections": []
    },
    "kernelspec": {
      "name": "python3",
      "display_name": "Python 3"
    },
    "language_info": {
      "name": "python"
    }
  },
  "cells": [
    {
      "cell_type": "code",
      "execution_count": null,
      "metadata": {
        "id": "LXbLZbJsc_bq"
      },
      "outputs": [],
      "source": [
        "from keras.preprocessing.image import ImageDataGenerator\n",
        "from keras.models import Sequential\n",
        "from keras.layers import Dense,Dropout,Flatten\n",
        "from keras.layers import Conv2D,MaxPooling2D\n",
        "import os\n",
        "from matplotlib import pyplot as plt\n",
        "import numpy as np"
      ]
    },
    {
      "cell_type": "code",
      "source": [
        "train_data_gen = ImageDataGenerator(rescale=1./255)\n",
        "validation_data_gen = ImageDataGenerator(rescale=1./255)"
      ],
      "metadata": {
        "id": "yrpP1j6BdHrN"
      },
      "execution_count": null,
      "outputs": []
    },
    {
      "cell_type": "code",
      "source": [
        "\n",
        "train_generator = train_data_gen.flow_from_directory(\n",
        "        '/content/drive/MyDrive/train',\n",
        "        target_size=(48, 48),\n",
        "        batch_size=64,\n",
        "        color_mode=\"rgb\",\n",
        "        class_mode='categorical')\n",
        "\n",
        "# Preprocess all train images\n",
        "validation_generator = validation_data_gen.flow_from_directory(\n",
        "        '/content/drive/MyDrive/test',\n",
        "        target_size=(48, 48),\n",
        "        batch_size=64,\n",
        "        color_mode=\"rgb\",\n",
        "        class_mode='categorical')"
      ],
      "metadata": {
        "colab": {
          "base_uri": "https://localhost:8080/"
        },
        "id": "eWNH3uoTdISL",
        "outputId": "f13cc2bb-2c0d-44c6-8eef-b9bf9b6a3c03"
      },
      "execution_count": null,
      "outputs": [
        {
          "output_type": "stream",
          "name": "stdout",
          "text": [
            "Found 28709 images belonging to 7 classes.\n",
            "Found 7178 images belonging to 7 classes.\n"
          ]
        }
      ]
    },
    {
      "cell_type": "code",
      "source": [
        ""
      ],
      "metadata": {
        "id": "QuV3oUQsdPIX"
      },
      "execution_count": null,
      "outputs": []
    },
    {
      "cell_type": "code",
      "source": [
        "validation_generator.class_indices"
      ],
      "metadata": {
        "colab": {
          "base_uri": "https://localhost:8080/"
        },
        "id": "lrP4RqIpdRsg",
        "outputId": "0bfddc83-8014-4d62-852e-4a35bc2c38b3"
      },
      "execution_count": null,
      "outputs": [
        {
          "output_type": "execute_result",
          "data": {
            "text/plain": [
              "{'angry': 0,\n",
              " 'disgust': 1,\n",
              " 'fear': 2,\n",
              " 'happy': 3,\n",
              " 'neutral': 4,\n",
              " 'sad': 5,\n",
              " 'surprise': 6}"
            ]
          },
          "metadata": {},
          "execution_count": 5
        }
      ]
    },
    {
      "cell_type": "code",
      "source": [
        "label=['angry','disgust','fear','happy','neutral','sad','surprise']"
      ],
      "metadata": {
        "id": "xUQ1_6YpPcH_"
      },
      "execution_count": null,
      "outputs": []
    },
    {
      "cell_type": "code",
      "source": [
        "emotion_model = Sequential()\n",
        "\n",
        "emotion_model.add(Conv2D(32, kernel_size=(3, 3), activation='relu', input_shape=(48, 48, 3)))\n",
        "emotion_model.add(Conv2D(64, kernel_size=(3, 3), activation='relu'))\n",
        "emotion_model.add(MaxPooling2D(pool_size=(2, 2)))\n",
        "emotion_model.add(Dropout(0.25))\n",
        "\n",
        "emotion_model.add(Conv2D(128, kernel_size=(3, 3), activation='relu'))\n",
        "emotion_model.add(MaxPooling2D(pool_size=(2, 2)))\n",
        "emotion_model.add(Conv2D(128, kernel_size=(3, 3), activation='relu'))\n",
        "emotion_model.add(MaxPooling2D(pool_size=(2, 2)))\n",
        "emotion_model.add(Dropout(0.25))\n",
        "\n",
        "emotion_model.add(Flatten())\n",
        "emotion_model.add(Dense(1024, activation='relu'))\n",
        "emotion_model.add(Dropout(0.5))\n",
        "emotion_model.add(Dense(7, activation='softmax'))\n"
      ],
      "metadata": {
        "id": "UGAR1MWHdgvd"
      },
      "execution_count": null,
      "outputs": []
    },
    {
      "cell_type": "code",
      "source": [
        "emotion_model.compile(loss='categorical_crossentropy', metrics=['accuracy'])\n"
      ],
      "metadata": {
        "id": "0lCWDwtrdzY2"
      },
      "execution_count": null,
      "outputs": []
    },
    {
      "cell_type": "code",
      "source": [
        "emotion_model_info = emotion_model.fit(\n",
        "        train_generator,\n",
        "        steps_per_epoch=28709 //128,\n",
        "        epochs=50,\n",
        "        validation_data=validation_generator,\n",
        "        validation_steps=7178 // 128)"
      ],
      "metadata": {
        "colab": {
          "base_uri": "https://localhost:8080/"
        },
        "id": "XBu_Rd_Gd07w",
        "outputId": "97d50f5c-15bd-4378-cabb-d409f83aadcc"
      },
      "execution_count": null,
      "outputs": [
        {
          "output_type": "stream",
          "name": "stdout",
          "text": [
            "Epoch 1/50\n",
            "224/224 [==============================] - 2583s 12s/step - loss: 1.7534 - accuracy: 0.2846 - val_loss: 1.6096 - val_accuracy: 0.3728\n",
            "Epoch 2/50\n",
            "224/224 [==============================] - 1279s 6s/step - loss: 1.5355 - accuracy: 0.4074 - val_loss: 1.4380 - val_accuracy: 0.4395\n",
            "Epoch 3/50\n",
            "224/224 [==============================] - 654s 3s/step - loss: 1.3948 - accuracy: 0.4685 - val_loss: 1.2993 - val_accuracy: 0.4944\n",
            "Epoch 4/50\n",
            "224/224 [==============================] - 360s 2s/step - loss: 1.3031 - accuracy: 0.5001 - val_loss: 1.2446 - val_accuracy: 0.5204\n",
            "Epoch 5/50\n",
            "224/224 [==============================] - 258s 1s/step - loss: 1.2463 - accuracy: 0.5234 - val_loss: 1.2258 - val_accuracy: 0.5262\n",
            "Epoch 6/50\n",
            "224/224 [==============================] - 226s 1s/step - loss: 1.2018 - accuracy: 0.5442 - val_loss: 1.1897 - val_accuracy: 0.5399\n",
            "Epoch 7/50\n",
            "224/224 [==============================] - 220s 980ms/step - loss: 1.1856 - accuracy: 0.5499 - val_loss: 1.1984 - val_accuracy: 0.5511\n",
            "Epoch 8/50\n",
            "224/224 [==============================] - 217s 968ms/step - loss: 1.1520 - accuracy: 0.5618 - val_loss: 1.1489 - val_accuracy: 0.5767\n",
            "Epoch 9/50\n",
            "224/224 [==============================] - 215s 960ms/step - loss: 1.1300 - accuracy: 0.5790 - val_loss: 1.2041 - val_accuracy: 0.5402\n",
            "Epoch 10/50\n",
            "224/224 [==============================] - 214s 956ms/step - loss: 1.1060 - accuracy: 0.5852 - val_loss: 1.1658 - val_accuracy: 0.5539\n",
            "Epoch 11/50\n",
            "224/224 [==============================] - 214s 957ms/step - loss: 1.0814 - accuracy: 0.5930 - val_loss: 1.1250 - val_accuracy: 0.5742\n",
            "Epoch 12/50\n",
            "224/224 [==============================] - 216s 964ms/step - loss: 1.0646 - accuracy: 0.6036 - val_loss: 1.1371 - val_accuracy: 0.5753\n",
            "Epoch 13/50\n",
            "224/224 [==============================] - 215s 959ms/step - loss: 1.0488 - accuracy: 0.6068 - val_loss: 1.1112 - val_accuracy: 0.5840\n",
            "Epoch 14/50\n",
            "224/224 [==============================] - 215s 958ms/step - loss: 1.0353 - accuracy: 0.6163 - val_loss: 1.1268 - val_accuracy: 0.5776\n",
            "Epoch 15/50\n",
            "224/224 [==============================] - 214s 957ms/step - loss: 1.0209 - accuracy: 0.6232 - val_loss: 1.1354 - val_accuracy: 0.5809\n",
            "Epoch 16/50\n",
            "224/224 [==============================] - 217s 967ms/step - loss: 1.0009 - accuracy: 0.6304 - val_loss: 1.1477 - val_accuracy: 0.5751\n",
            "Epoch 17/50\n",
            "224/224 [==============================] - 215s 958ms/step - loss: 0.9838 - accuracy: 0.6336 - val_loss: 1.1275 - val_accuracy: 0.5893\n",
            "Epoch 18/50\n",
            "224/224 [==============================] - 215s 960ms/step - loss: 0.9816 - accuracy: 0.6434 - val_loss: 1.1993 - val_accuracy: 0.5854\n",
            "Epoch 19/50\n",
            "224/224 [==============================] - 217s 968ms/step - loss: 0.9614 - accuracy: 0.6436 - val_loss: 1.1404 - val_accuracy: 0.5871\n",
            "Epoch 20/50\n",
            "224/224 [==============================] - 216s 966ms/step - loss: 0.9534 - accuracy: 0.6481 - val_loss: 1.1451 - val_accuracy: 0.5938\n",
            "Epoch 21/50\n",
            "224/224 [==============================] - 215s 959ms/step - loss: 0.9492 - accuracy: 0.6538 - val_loss: 1.0804 - val_accuracy: 0.6102\n",
            "Epoch 22/50\n",
            "224/224 [==============================] - 214s 957ms/step - loss: 0.9299 - accuracy: 0.6579 - val_loss: 1.1356 - val_accuracy: 0.5935\n",
            "Epoch 23/50\n",
            "224/224 [==============================] - 214s 956ms/step - loss: 0.9355 - accuracy: 0.6566 - val_loss: 1.1790 - val_accuracy: 0.5949\n",
            "Epoch 24/50\n",
            "224/224 [==============================] - 215s 959ms/step - loss: 0.9185 - accuracy: 0.6634 - val_loss: 1.1510 - val_accuracy: 0.5912\n",
            "Epoch 25/50\n",
            "224/224 [==============================] - 214s 954ms/step - loss: 0.9153 - accuracy: 0.6629 - val_loss: 1.1409 - val_accuracy: 0.5834\n",
            "Epoch 26/50\n",
            "224/224 [==============================] - 214s 956ms/step - loss: 0.9046 - accuracy: 0.6706 - val_loss: 1.1356 - val_accuracy: 0.5977\n",
            "Epoch 27/50\n",
            "224/224 [==============================] - 215s 960ms/step - loss: 0.9087 - accuracy: 0.6689 - val_loss: 1.1849 - val_accuracy: 0.6057\n",
            "Epoch 28/50\n",
            "224/224 [==============================] - 215s 957ms/step - loss: 0.8981 - accuracy: 0.6671 - val_loss: 1.0695 - val_accuracy: 0.6091\n",
            "Epoch 29/50\n",
            "224/224 [==============================] - 215s 961ms/step - loss: 0.8741 - accuracy: 0.6827 - val_loss: 1.1369 - val_accuracy: 0.6032\n",
            "Epoch 30/50\n",
            "224/224 [==============================] - 214s 954ms/step - loss: 0.8881 - accuracy: 0.6769 - val_loss: 1.0956 - val_accuracy: 0.6044\n",
            "Epoch 31/50\n",
            "224/224 [==============================] - 214s 955ms/step - loss: 0.8747 - accuracy: 0.6783 - val_loss: 1.1103 - val_accuracy: 0.6032\n",
            "Epoch 32/50\n",
            "224/224 [==============================] - 215s 960ms/step - loss: 0.8796 - accuracy: 0.6838 - val_loss: 1.1704 - val_accuracy: 0.5921\n",
            "Epoch 33/50\n",
            "224/224 [==============================] - 215s 960ms/step - loss: 0.8748 - accuracy: 0.6817 - val_loss: 1.0974 - val_accuracy: 0.5932\n",
            "Epoch 34/50\n",
            "224/224 [==============================] - 214s 955ms/step - loss: 0.8646 - accuracy: 0.6808 - val_loss: 1.2051 - val_accuracy: 0.5854\n",
            "Epoch 35/50\n",
            "224/224 [==============================] - 215s 960ms/step - loss: 0.8634 - accuracy: 0.6854 - val_loss: 1.1443 - val_accuracy: 0.5901\n",
            "Epoch 36/50\n",
            "224/224 [==============================] - 215s 959ms/step - loss: 0.8516 - accuracy: 0.6891 - val_loss: 1.2433 - val_accuracy: 0.5929\n",
            "Epoch 37/50\n",
            "224/224 [==============================] - 215s 961ms/step - loss: 0.8679 - accuracy: 0.6890 - val_loss: 1.1272 - val_accuracy: 0.5887\n",
            "Epoch 38/50\n",
            "224/224 [==============================] - 217s 967ms/step - loss: 0.8405 - accuracy: 0.6926 - val_loss: 1.1561 - val_accuracy: 0.5862\n",
            "Epoch 39/50\n",
            "224/224 [==============================] - 213s 951ms/step - loss: 0.8651 - accuracy: 0.6880 - val_loss: 1.2013 - val_accuracy: 0.5938\n",
            "Epoch 40/50\n",
            "224/224 [==============================] - 215s 960ms/step - loss: 0.8468 - accuracy: 0.6982 - val_loss: 1.2053 - val_accuracy: 0.5896\n",
            "Epoch 41/50\n",
            "224/224 [==============================] - 215s 958ms/step - loss: 0.8504 - accuracy: 0.6897 - val_loss: 1.2380 - val_accuracy: 0.5884\n",
            "Epoch 42/50\n",
            "224/224 [==============================] - 214s 957ms/step - loss: 0.8479 - accuracy: 0.6963 - val_loss: 1.1408 - val_accuracy: 0.5963\n",
            "Epoch 43/50\n",
            "224/224 [==============================] - 214s 956ms/step - loss: 0.8625 - accuracy: 0.6952 - val_loss: 1.2079 - val_accuracy: 0.5921\n",
            "Epoch 44/50\n",
            "224/224 [==============================] - 214s 956ms/step - loss: 0.8538 - accuracy: 0.6968 - val_loss: 1.1431 - val_accuracy: 0.5907\n",
            "Epoch 45/50\n",
            "224/224 [==============================] - 215s 960ms/step - loss: 0.8383 - accuracy: 0.6980 - val_loss: 1.1473 - val_accuracy: 0.5935\n",
            "Epoch 46/50\n",
            "224/224 [==============================] - 216s 963ms/step - loss: 0.8569 - accuracy: 0.6875 - val_loss: 1.1814 - val_accuracy: 0.6057\n",
            "Epoch 47/50\n",
            "224/224 [==============================] - 215s 960ms/step - loss: 0.8477 - accuracy: 0.6975 - val_loss: 1.1855 - val_accuracy: 0.5868\n",
            "Epoch 48/50\n",
            "224/224 [==============================] - 216s 966ms/step - loss: 0.8460 - accuracy: 0.6983 - val_loss: 1.1930 - val_accuracy: 0.5991\n",
            "Epoch 49/50\n",
            "224/224 [==============================] - 215s 959ms/step - loss: 0.8450 - accuracy: 0.6970 - val_loss: 1.1723 - val_accuracy: 0.5868\n",
            "Epoch 50/50\n",
            "224/224 [==============================] - 214s 957ms/step - loss: 0.8283 - accuracy: 0.7061 - val_loss: 1.2136 - val_accuracy: 0.5544\n"
          ]
        }
      ]
    },
    {
      "cell_type": "code",
      "source": [
        "\n",
        "emotion_model.save('emotion.h5')"
      ],
      "metadata": {
        "id": "j_pG12OBJ-1b"
      },
      "execution_count": null,
      "outputs": []
    },
    {
      "cell_type": "code",
      "source": [
        "from keras.models import load_model\n",
        "emotion_model=load_model('emotion.h5')\n"
      ],
      "metadata": {
        "id": "hWn0tCguKv-S"
      },
      "execution_count": null,
      "outputs": []
    },
    {
      "cell_type": "code",
      "source": [
        "label=['']"
      ],
      "metadata": {
        "id": "m2CZosKEPWKn"
      },
      "execution_count": null,
      "outputs": []
    },
    {
      "cell_type": "code",
      "source": [
        "import numpy as np\n",
        "from tensorflow.keras.utils import load_img,img_to_array\n",
        "image =load_img('/content/a.jpg.crdownload', target_size = (48,48))\n",
        "plt.imshow(image)\n",
        "img = img_to_array(image)\n",
        "img = img.reshape(1,48,48,3) \n",
        "img = img.astype('float32')\n",
        "img = img/255\n",
        "label=['angry','disgust','fear','happy','neutral','sad','surprise']\n",
        "print(label[np.argmax(emotion_model.predict(img))])"
      ],
      "metadata": {
        "colab": {
          "base_uri": "https://localhost:8080/",
          "height": 284
        },
        "id": "7rYcF8UkLX-z",
        "outputId": "93ea1c2c-b810-4a2d-d07a-ad03f87f18c1"
      },
      "execution_count": null,
      "outputs": [
        {
          "output_type": "stream",
          "name": "stdout",
          "text": [
            "happy\n"
          ]
        },
        {
          "output_type": "display_data",
          "data": {
            "text/plain": [
              "<Figure size 432x288 with 1 Axes>"
            ],
            "image/png": "[encoded data removed]"
          },
          "metadata": {
            "needs_background": "light"
          }
        }
      ]
    }
  ]
}